{
 "cells": [
  {
   "cell_type": "code",
   "execution_count": null,
   "id": "b4b4d476",
   "metadata": {},
   "outputs": [],
   "source": [
    "print(\"yolo let me iiin\")"
   ]
  }
 ],
 "metadata": {
  "kernelspec": {
   "display_name": "base",
   "language": "python",
   "name": "python3"
  },
  "language_info": {
   "name": "python",
   "version": "3.12.7"
  }
 },
 "nbformat": 4,
 "nbformat_minor": 5
}
